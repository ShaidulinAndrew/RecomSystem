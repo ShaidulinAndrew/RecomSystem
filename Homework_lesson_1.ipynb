{
 "cells": [
  {
   "cell_type": "markdown",
   "id": "ce8e99c5",
   "metadata": {},
   "source": [
    "# Домашнее задание №1"
   ]
  },
  {
   "cell_type": "code",
   "execution_count": 1,
   "id": "4d1b5b9b",
   "metadata": {},
   "outputs": [],
   "source": [
    "import numpy as np\n",
    "import pandas as pd"
   ]
  },
  {
   "cell_type": "markdown",
   "id": "c475b4ec",
   "metadata": {},
   "source": [
    "## Задание 1. Реализовать метрики Recall@k и Money Recall@k"
   ]
  },
  {
   "cell_type": "code",
   "execution_count": 2,
   "id": "590529ef",
   "metadata": {},
   "outputs": [],
   "source": [
    "def recall_at_k(recommended_list, bought_list, k=50):\n",
    "\n",
    "    bought_list = np.array(bought_list)\n",
    "    recommended_list = np.array(recommended_list)\n",
    "\n",
    "    bought_list = bought_list\n",
    "    recommended_list = recommended_list[:k]\n",
    "    \n",
    "    flags = np.isin(recommended_list, bought_list)\n",
    "    \n",
    "    recall = flags.sum() / len(bought_list)\n",
    "\n",
    "    return recall\n",
    "\n",
    "\n",
    "\n",
    "\n",
    "def money_recall_at_k(recommended_list, bought_list, prices_recommended, prices_bought, k=50):\n",
    "    bought_list = np.array(bought_list)\n",
    "    recommended_list = np.array(recommended_list)\n",
    "    prices_recommended = np.array(prices_recommended)\n",
    "    prices_bought = np.array(prices_bought)\n",
    "    \n",
    "    bought_list = bought_list\n",
    "    recommended_list = recommended_list[:k]\n",
    "    prices_recommended = prices_recommended[:k]\n",
    "    prices_bought = prices_bought\n",
    "\n",
    "    flags = np.isin(recommended_list, bought_list)\n",
    "    money_recall = (flags*prices_recommended).sum() / prices_bought.sum()\n",
    "     \n",
    "\n",
    "    return money_recall"
   ]
  },
  {
   "cell_type": "markdown",
   "id": "23c7cf02",
   "metadata": {},
   "source": [
    "## Задание 2. Реализовать метрику MRR@k"
   ]
  },
  {
   "cell_type": "code",
   "execution_count": 3,
   "id": "187cad77",
   "metadata": {},
   "outputs": [],
   "source": [
    "def mrr_at_k(recommended_list, bought_list, k=5):\n",
    "    bought_list = np.array(bought_list)\n",
    "    recommended_list = np.array(recommended_list)\n",
    "    \n",
    "    bought_list = bought_list\n",
    "    recommended_list = recommended_list[:k]\n",
    "    \n",
    "    # Создаем список рангов\n",
    "    rankings = np.where(recommended_list == bought_list.reshape(-1, 1))[1] + 1\n",
    "    \n",
    "    # Проверяем, если ранги не найдены, возвращаем 0\n",
    "    if len(rankings) == 0:\n",
    "        return 0\n",
    "    \n",
    "    # Находим минимальный ранг\n",
    "    min_rank = np.min(rankings)\n",
    "    \n",
    "    # Считаем обратный ранг в первом найденном элементе\n",
    "    reciprocal_rank = 1 / min_rank\n",
    "    \n",
    "    # Возвращаем !средний! обратный ранг\n",
    "    return reciprocal_rank"
   ]
  },
  {
   "cell_type": "code",
   "execution_count": null,
   "id": "1e30ccf7",
   "metadata": {},
   "outputs": [],
   "source": []
  }
 ],
 "metadata": {
  "kernelspec": {
   "display_name": "Python 3 (ipykernel)",
   "language": "python",
   "name": "python3"
  },
  "language_info": {
   "codemirror_mode": {
    "name": "ipython",
    "version": 3
   },
   "file_extension": ".py",
   "mimetype": "text/x-python",
   "name": "python",
   "nbconvert_exporter": "python",
   "pygments_lexer": "ipython3",
   "version": "3.10.9"
  }
 },
 "nbformat": 4,
 "nbformat_minor": 5
}
